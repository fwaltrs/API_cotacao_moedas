{
 "cells": [
  {
   "cell_type": "markdown",
   "id": "8ad02991",
   "metadata": {
    "pycharm": {
     "name": "#%%\n"
    }
   },
   "source": [
    "#importando bibliotecas importantes\n",
    "import requests\n",
    "import json"
   ]
  },
  {
   "cell_type": "code",
   "execution_count": 11,
   "id": "7455dd8b",
   "metadata": {
    "pycharm": {
     "name": "#%%\n"
    }
   },
   "outputs": [
    {
     "name": "stdout",
     "output_type": "stream",
     "text": [
      "{'USDBRL': {'code': 'USD', 'codein': 'BRL', 'name': 'Dólar Americano/Real Brasileiro', 'high': '5.237', 'low': '5.2369', 'varBid': '0.0003', 'pctChange': '0', 'bid': '5.2367', 'ask': '5.2372', 'timestamp': '1677629200', 'create_date': '2023-02-28 21:06:40'}, 'EURBRL': {'code': 'EUR', 'codein': 'BRL', 'name': 'Euro/Real Brasileiro', 'high': '5.5412', 'low': '5.5354', 'varBid': '-0.0028', 'pctChange': '-0.05', 'bid': '5.5341', 'ask': '5.5368', 'timestamp': '1677629200', 'create_date': '2023-02-28 21:06:40'}, 'BTCBRL': {'code': 'BTC', 'codein': 'BRL', 'name': 'Bitcoin/Real Brasileiro', 'high': '123569', 'low': '121033', 'varBid': '-1334', 'pctChange': '-1.09', 'bid': '121277', 'ask': '121277', 'timestamp': '1677629199', 'create_date': '2023-02-28 21:06:39'}}\n"
     ]
    }
   ],
   "source": [
    "cotacoes = requests.get(\"https://economia.awesomeapi.com.br/last/USD-BRL,EUR-BRL,BTC-BRL\")\n",
    "cotacoes = cotacoes.json()\n",
    "print(cotacoes)"
   ]
  },
  {
   "cell_type": "markdown",
   "id": "d3f3cb56",
   "metadata": {
    "pycharm": {
     "name": "#%% md\n"
    }
   },
   "source": [
    "Verificar a cotação do dólar em relação ao real brasileiro: "
   ]
  },
  {
   "cell_type": "code",
   "execution_count": 12,
   "id": "100bbf53",
   "metadata": {
    "pycharm": {
     "name": "#%%\n"
    }
   },
   "outputs": [
    {
     "name": "stdout",
     "output_type": "stream",
     "text": [
      "5.2367\n"
     ]
    }
   ],
   "source": [
    "cotacao_dolar = cotacoes['USDBRL']['bid']\n",
    "print(cotacao_dolar)"
   ]
  },
  {
   "cell_type": "markdown",
   "id": "b9958461",
   "metadata": {
    "pycharm": {
     "name": "#%% md\n"
    }
   },
   "source": [
    "Verificar a cotação do Euro em relação ao real brasileiro:"
   ]
  },
  {
   "cell_type": "code",
   "execution_count": 7,
   "id": "2958e2fc",
   "metadata": {
    "pycharm": {
     "name": "#%%\n"
    }
   },
   "outputs": [
    {
     "name": "stdout",
     "output_type": "stream",
     "text": [
      "5.5378\n"
     ]
    }
   ],
   "source": [
    "cotacao_real = cotacoes['EURBRL']['bid']\n",
    "print(cotacao_real)"
   ]
  },
  {
   "cell_type": "markdown",
   "id": "942ea553",
   "metadata": {
    "pycharm": {
     "name": "#%% md\n"
    }
   },
   "source": [
    "Verificar a cotação do Bitcoin em relação ao real brasileiro:\n",
    "    "
   ]
  },
  {
   "cell_type": "code",
   "execution_count": 9,
   "id": "e4d2978d",
   "metadata": {
    "pycharm": {
     "name": "#%%\n"
    }
   },
   "outputs": [
    {
     "name": "stdout",
     "output_type": "stream",
     "text": [
      "121257\n"
     ]
    }
   ],
   "source": [
    "cotacao_bitcoin = cotacoes['BTCBRL']['bid']\n",
    "print(cotacao_bitcoin)"
   ]
  }
 ],
 "metadata": {
  "kernelspec": {
   "display_name": "Python 3 (ipykernel)",
   "language": "python",
   "name": "python3"
  },
  "language_info": {
   "codemirror_mode": {
    "name": "ipython",
    "version": 3
   },
   "file_extension": ".py",
   "mimetype": "text/x-python",
   "name": "python",
   "nbconvert_exporter": "python",
   "pygments_lexer": "ipython3",
   "version": "3.9.12"
  }
 },
 "nbformat": 4,
 "nbformat_minor": 5
}
